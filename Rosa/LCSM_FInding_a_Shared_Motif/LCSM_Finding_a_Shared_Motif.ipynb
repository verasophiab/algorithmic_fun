{
 "cells": [
  {
   "cell_type": "code",
   "execution_count": 1,
   "metadata": {},
   "outputs": [
    {
     "name": "stdout",
     "output_type": "stream",
     "text": [
      "ATGGGTGTATCATAGGGGGCAGGTTGAGAAAACCACGACTCGCCAAGTCCACTAACCCAACTTTAGCTGCTTTTACAAGTAGGACAAGCCCTGTAGTTCCCGGAACATCAATGTATGATGGCCCGGCTCGTAGGGGCCG\n"
     ]
    }
   ],
   "source": [
    "#this version will find the first longest motif (but it does find all motifs)\n",
    "from Bio import SeqIO\n",
    "fasta_dict = SeqIO.to_dict(SeqIO.parse('/Users/belia/projects/rosalind/LCSM_FInding_a_Shared_Motif/rosalind_lcsm.txt', \"fasta\"))\n",
    "#narrow dict to only seq\n",
    "for key, value in fasta_dict.items():\n",
    "    fasta_dict[key] = str(value.seq)\n",
    "\n",
    "#find seq ids w min length and just take the first one\n",
    "min_len = min(len(fasta_dict[key]) for key in fasta_dict)\n",
    "shortest_seq_id = [key for key in fasta_dict if len(fasta_dict[key]) == min_len][0]\n",
    "#use one of the shortest to get all possible motifs\n",
    "#get all possib substrings of shortest seq\n",
    "substrs = []\n",
    "seq = fasta_dict[shortest_seq_id]\n",
    "#get every possible substring\n",
    "for i in range(len(seq)):\n",
    "    for j in range(len(seq)+1):\n",
    "            if i < j:\n",
    "                substrs.append(seq[i:j])\n",
    "possibmotifs = sorted(list(set(substrs)),key=len, reverse = True)\n",
    "\n",
    "#loop through possib motifs (largest motif to smallest), checking for presence of the motif in the fasta seqs. \n",
    "#as soon as it hits false, stop and move to the next motif.\n",
    "motif_in_all_seqs = []\n",
    "for motif in possibmotifs:\n",
    "    motif_in_seq = []\n",
    "    for key in fasta_dict:\n",
    "        if motif in fasta_dict[key]:\n",
    "            motif_in_seq.append(\"yes\")\n",
    "        else:\n",
    "            break\n",
    "    if len(motif_in_seq) == len(fasta_dict):\n",
    "        motif_in_all_seqs.append(motif)\n",
    "\n",
    "#print first longest motif\n",
    "print(motif_in_all_seqs[0])"
   ]
  }
 ],
 "metadata": {
  "kernelspec": {
   "display_name": "base",
   "language": "python",
   "name": "python3"
  },
  "language_info": {
   "codemirror_mode": {
    "name": "ipython",
    "version": 3
   },
   "file_extension": ".py",
   "mimetype": "text/x-python",
   "name": "python",
   "nbconvert_exporter": "python",
   "pygments_lexer": "ipython3",
   "version": "3.10.8"
  }
 },
 "nbformat": 4,
 "nbformat_minor": 2
}
