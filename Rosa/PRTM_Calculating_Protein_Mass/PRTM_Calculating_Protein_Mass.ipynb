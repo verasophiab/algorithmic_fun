{
 "cells": [
  {
   "cell_type": "code",
   "execution_count": 21,
   "metadata": {},
   "outputs": [
    {
     "data": {
      "text/plain": [
       "106131.35716000038"
      ]
     },
     "execution_count": 21,
     "metadata": {},
     "output_type": "execute_result"
    }
   ],
   "source": [
    "raw = 'A   71.03711 C   103.00919   D   115.02694   E   129.04259   F   147.06841   G   57.02146    H   137.05891   I   113.08406   K   128.09496   L   113.08406   M   131.04049   N   114.04293   P   97.05276    Q   128.05858   R   156.10111   S   87.03203    T   101.04768   V   99.06841    W   186.07931   Y   163.06333'\n",
    "raw_list = raw.split()\n",
    "monoisotopic_mass_tbl = dict(zip(raw_list[0:len(raw_list):2], raw_list[1:len(raw_list):2]))\n",
    "\n",
    "aa = open('/Users/belia/projects/rosalind/PRTM_Calculating_Protein_Mass/rosalind_prtm.txt', \"r\").read()\n",
    "sum((float(monoisotopic_mass_tbl[let]) for let in aa))"
   ]
  }
 ],
 "metadata": {
  "kernelspec": {
   "display_name": "base",
   "language": "python",
   "name": "python3"
  },
  "language_info": {
   "codemirror_mode": {
    "name": "ipython",
    "version": 3
   },
   "file_extension": ".py",
   "mimetype": "text/x-python",
   "name": "python",
   "nbconvert_exporter": "python",
   "pygments_lexer": "ipython3",
   "version": "3.10.8"
  }
 },
 "nbformat": 4,
 "nbformat_minor": 2
}
