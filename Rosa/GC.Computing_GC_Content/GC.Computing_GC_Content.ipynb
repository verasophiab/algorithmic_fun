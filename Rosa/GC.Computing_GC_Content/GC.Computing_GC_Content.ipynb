{
 "cells": [
  {
   "cell_type": "code",
   "execution_count": 1,
   "metadata": {},
   "outputs": [],
   "source": [
    "from Bio import SeqIO"
   ]
  },
  {
   "cell_type": "code",
   "execution_count": 2,
   "metadata": {},
   "outputs": [
    {
     "name": "stdout",
     "output_type": "stream",
     "text": [
      "Rosalind_4086\n",
      "55.028248587570616\n"
     ]
    }
   ],
   "source": [
    "GC_dict = {}\n",
    "for record in SeqIO.parse('/Users/belia/projects/rosalind/GC.Computing_GC_Content/rosalind_gc.txt', \"fasta\"):\n",
    "    GC_dict[record.id] = (sum(record.seq.count(char) for char in ['C', 'G'])/len(record.seq))*100\n",
    "maxGC = max(zip(GC_dict.values(), GC_dict.keys()))\n",
    "print(maxGC[1])\n",
    "print(maxGC[0])"
   ]
  }
 ],
 "metadata": {
  "kernelspec": {
   "display_name": "base",
   "language": "python",
   "name": "python3"
  },
  "language_info": {
   "codemirror_mode": {
    "name": "ipython",
    "version": 3
   },
   "file_extension": ".py",
   "mimetype": "text/x-python",
   "name": "python",
   "nbconvert_exporter": "python",
   "pygments_lexer": "ipython3",
   "version": "3.10.8"
  }
 },
 "nbformat": 4,
 "nbformat_minor": 2
}
