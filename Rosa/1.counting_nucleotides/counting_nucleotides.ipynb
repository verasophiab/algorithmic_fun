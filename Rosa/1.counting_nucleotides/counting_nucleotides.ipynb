{
 "cells": [
  {
   "cell_type": "code",
   "execution_count": 1,
   "metadata": {},
   "outputs": [],
   "source": [
    "#first attempt\n",
    "import pandas as pd\n",
    "nts = pd.read_csv(\"rosalind_dna.txt\")\n",
    "nts = nts.columns[0]\n",
    "final_list = []\n",
    "for let in [ 'A', 'C', 'G','T']:\n",
    "    final_list.append(nts.count(let))\n",
    "final_list = [str(i) for i in final_list]\n",
    "lens = ' '.join(final_list)\n",
    "print(lens)\n",
    "    "
   ]
  },
  {
   "cell_type": "code",
   "execution_count": 9,
   "metadata": {},
   "outputs": [
    {
     "name": "stdout",
     "output_type": "stream",
     "text": [
      "194 204 204 205\n"
     ]
    }
   ],
   "source": [
    "#best\n",
    "nts = open(\"rosalind_dna.txt\", \"r\").read()\n",
    "print(nts.count('A'), nts.count('C'), nts.count('G'), nts.count('T'))"
   ]
  }
 ],
 "metadata": {
  "kernelspec": {
   "display_name": "Python 3",
   "language": "python",
   "name": "python3"
  },
  "language_info": {
   "codemirror_mode": {
    "name": "ipython",
    "version": 3
   },
   "file_extension": ".py",
   "mimetype": "text/x-python",
   "name": "python",
   "nbconvert_exporter": "python",
   "pygments_lexer": "ipython3",
   "version": "3.10.8"
  }
 },
 "nbformat": 4,
 "nbformat_minor": 2
}
