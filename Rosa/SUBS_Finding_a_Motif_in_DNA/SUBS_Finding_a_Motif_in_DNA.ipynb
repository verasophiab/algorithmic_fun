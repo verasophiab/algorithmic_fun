{
 "cells": [
  {
   "cell_type": "code",
   "execution_count": 1,
   "metadata": {},
   "outputs": [],
   "source": [
    "import re"
   ]
  },
  {
   "cell_type": "code",
   "execution_count": 25,
   "metadata": {},
   "outputs": [
    {
     "name": "stdout",
     "output_type": "stream",
     "text": [
      "11 41 72 115 131 186 236 243 259 344 405 412 442 449 456 485 500 518 545 569 608 615 653 676 700 776 783 825 961 "
     ]
    }
   ],
   "source": [
    "#re.finditer doesn't find overlapping matches\n",
    "dna1 = \"AGAACGCTTGGAACGCTGATGGGGAACGCTAGAACGCTATGAACGCTGAACGCTACGAACGCTTATAGACTGAACGCTGAACGCTCGAACGCTTACCGGAACGCTGTACTCAAAGAACGCTGAACGCTGCGAACGCTGAACGCTAGAACGCTTGAACGCTCAGTGAACGCTAAGTGGAACGCTCGGAACGCTGAACGCTTTGATACATGAACGCTTGTGGAACGCTTCCCGATTGGAACGCTGAACGCTGAACGCTTAGAACGCTGAACGCTGTGAACGCTGTTTTCCGGAACGCTATGAACGCTAAAGGAACGCTGTTGACGACGAACGCTTGTGAACGCTCGAACGCTGAACGCTAGTCCTCCTGACCCTTAAAGAACGCTGCATGAACGCTTGAACGCTTCGAACGCTGAACGCTGAACGCTTGGAACGCTTCTAAACGAACGCTGAACGCTGAACGCTGAACGCTCACAAGAACGCTCGGGAACGCTGAACGCTTGAACGCTGAACGCTTCCCGAACGCTGAACGCTAAAATGCGCGCGCGAACGCTGAACGCTTGAACGCTCGGAACGCTGAACGCTTATAGGAAAGAACGCTCCCGTTGGTGAACGCTGAACGCTGAACGCTACGGAACGCTCCCCGAACGCTTTAGAACGCTGAACGCTGGAACGCTAGAACGCTGAACGCTCGAACGCTTCGAACGCTGAACGCTAGCTGAACGCTCGAACGCTTTGATGAACGCTGGAACGCTGCGGAACGCTACACAGAACGCTCGAACGCTGAACGCTGAACGCGAACGCTTTCAGAACGCTCCGAACGCTCAGAACGCTGAACGCTCTGAACGCTCCATTATAGAACGCTCGGAACGCTGTGGAACGCTCAGAACGCTCGTGCAAGTATGAACGCTAGGAACGCTCTCTAAGAACGCTCGGAACGCTCGAACGCTAGAACGCTCATTAGAACGCTGAACGCT\"\n",
    "dna2 = \"GAACGCTGA\"\n",
    "\n",
    "\n",
    "regex = '(?=(\\w{' + str(len(dna2)) + '))dna2)'\n",
    "for match in re.finditer('(?={0})'.format(re.escape(dna2)), dna1):\n",
    "    print(match.start()+1, end = ' ')"
   ]
  }
 ],
 "metadata": {
  "kernelspec": {
   "display_name": "base",
   "language": "python",
   "name": "python3"
  },
  "language_info": {
   "codemirror_mode": {
    "name": "ipython",
    "version": 3
   },
   "file_extension": ".py",
   "mimetype": "text/x-python",
   "name": "python",
   "nbconvert_exporter": "python",
   "pygments_lexer": "ipython3",
   "version": "3.10.8"
  }
 },
 "nbformat": 4,
 "nbformat_minor": 2
}
